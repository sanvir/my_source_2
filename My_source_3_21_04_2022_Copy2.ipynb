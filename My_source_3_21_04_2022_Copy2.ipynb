{
  "cells": [
    {
      "cell_type": "markdown",
      "metadata": {
        "id": "view-in-github",
        "colab_type": "text"
      },
      "source": [
        "<a href=\"https://colab.research.google.com/github/sanvir/my_source_2/blob/main/My_source_3_21_04_2022_Copy2.ipynb\" target=\"_parent\"><img src=\"https://colab.research.google.com/assets/colab-badge.svg\" alt=\"Open In Colab\"/></a>"
      ]
    },
    {
      "cell_type": "code",
      "execution_count": null,
      "metadata": {
        "id": "JjN7CbVkoKXZ"
      },
      "outputs": [],
      "source": [
        "# https://www.mql5.com/ru/articles/9514\n",
        "# https://cran.r-project.org/web/packages/PSF/vignettes/PSF_vignette.html\n",
        "# https://habr.com/ru/post/562092/\n",
        "# https://www.mql5.com/ru/blogs/post/746398\n",
        "# ии прогноз свечей пример colab\n",
        "#"
      ]
    },
    {
      "cell_type": "code",
      "execution_count": null,
      "metadata": {
        "id": "h-W1XmgBnlJw"
      },
      "outputs": [],
      "source": [
        "# !!! Обязательно загрузить сначала это !!!\n",
        "file_name = \"2022-04-22\""
      ]
    },
    {
      "cell_type": "code",
      "execution_count": null,
      "metadata": {
        "id": "g-X5D4TVx7wl",
        "scrolled": false
      },
      "outputs": [],
      "source": [
        "# Загружаем исходные данные, извлекаем нужные, создаём модель, обучаем и сохраняем её в файл\n",
        "\n",
        "from os import rename # \n",
        "import datetime\n",
        "\n",
        "import IPython\n",
        "import IPython.display\n",
        "import matplotlib as mpl\n",
        "import matplotlib.pyplot as plt\n",
        "import numpy as np\n",
        "import pandas as pd\n",
        "import seaborn as sns\n",
        "#import tensorflow as tf\n",
        "\n",
        "\n",
        "\n",
        "# Загружаем котировки из файла\n",
        "\n",
        "#file_name = \"2022-04-21\"\n",
        "file_ext = \".txt\"  # расширение\n",
        "\n",
        "#students_performance = pd.read_csv('./EURUSD_M1_202201102215_202204181408.csv', sep='\\t') # Загрузка файла с сайта\n",
        "My_NeuralNetwork = pd.read_csv(file_name+file_ext, sep=',', \n",
        "                               encoding='windows-1251', names=[\"Номер\", \"Время\", \"Инструмент\", \"Рынок\", \"nul_2\",\"Цена\", \"nul_3\",\"Количество\",\n",
        "                                                               \"Объем\",\"nul_6\",\"nul_7\",\"nul_8\",\"nul_9\",\"nul_10\",\"nul_11\",\"Операция\"], index_col='Номер') # Загрузка файла с сайта\n",
        "                                                                                                                              # , parse_dates=[\"Время\"]\n",
        "# Выборка данных:          \n",
        "My_NeuralNetwork = My_NeuralNetwork[['Время', 'Цена', 'Количество', 'Операция']] # Если нужно вывести несколько столбцов, в квадратные скобки нужно вставить список с их названиями\n",
        "#My_NeuralNetwork = My_NeuralNetwork.loc[My_NeuralNetwork['Количество'] > 300]  # Оставить строки, где значение дольше 300\n",
        "\n",
        "#My_NeuralNetwork.drop_duplicates(subset=['Время'], keep=False)\n",
        "\n",
        "# 'Операция' Заменяем S на 0, а B на 1\n",
        "My_NeuralNetwork['Операция'] = [x.replace(\"S\", \"0\") for x in My_NeuralNetwork['Операция']] # Заменяем S на 0\n",
        "My_NeuralNetwork['Операция'] = [x.replace(\"B\", \"1\") for x in My_NeuralNetwork['Операция']] # Заменяем B на 1\n",
        "\n",
        "\n",
        "# Будущее_Вектор_в_пунктах\n",
        "My_NeuralNetwork['Будущее_Вектор_в_пунктах'] = (My_NeuralNetwork['Цена'] - (My_NeuralNetwork['Цена'].shift(-1,fill_value=0))) # цену акций предыдущего дня .shift(-1,fill_value=0) в виде нового столбца\n",
        "My_NeuralNetwork.loc[My_NeuralNetwork['Операция'] == '1', 'Будущее_Вектор_в_пунктах'] = (My_NeuralNetwork['Будущее_Вектор_в_пунктах']*-1) # Если число отрицательное, значит цена двинулась вниз = 0\n",
        "\n",
        "# Будущее_Вектор\n",
        "My_NeuralNetwork.loc[My_NeuralNetwork['Будущее_Вектор_в_пунктах'] < 0, 'Будущее_Вектор'] = 0          # Если число отрицательное, значит цена двинулась вниз = 0\n",
        "My_NeuralNetwork.loc[My_NeuralNetwork['Будущее_Вектор_в_пунктах'] > 0, 'Будущее_Вектор'] = 1          # Если число положительное, значит цена двинулась вверх = 1\n",
        "\n",
        "#Удаляю строки с Nan , 0, 1000 и -1000\n",
        "My_NeuralNetwork = My_NeuralNetwork.loc[My_NeuralNetwork['Будущее_Вектор_в_пунктах'] !=0 ]  # Оставить строки, где значение\n",
        "My_NeuralNetwork = My_NeuralNetwork.loc[My_NeuralNetwork['Будущее_Вектор'] !='NaN' ]  # Оставить строки, где значение\n",
        "#My_NeuralNetwork = My_NeuralNetwork.loc[My_NeuralNetwork['Вектор_предыдущий'] !='NaN' ]  # Оставить строки, где значение\n",
        "My_NeuralNetwork = My_NeuralNetwork.loc[My_NeuralNetwork['Будущее_Вектор_в_пунктах'] <1000 ]  # Оставить строки, где значение\n",
        "My_NeuralNetwork = My_NeuralNetwork.loc[My_NeuralNetwork['Будущее_Вектор_в_пунктах'] >-1000 ]  # Оставить строки, где значение\n",
        "\n",
        "#Вектор_предыдущий\n",
        "My_NeuralNetwork['Вектор_предыдущий'] = (My_NeuralNetwork['Будущее_Вектор'].shift(1,fill_value=0)) # Вектор_результат .shift(1,fill_value=0) в виде нового столбца\n",
        "\n",
        "# В ПЕРВОЙ СТРОКЕ ОШИБКА В СТОЛБЦЕ \"Вектор_предыдущий\" ТАК КАК ПРЕДЫДУЩЕГО ВЕКТОРА В ПРИНЦИПЕ БЫТЬ НЕ МОЖЕТ\n",
        "#My_NeuralNetwork.drop(My_NeuralNetwork.index[0], axis= 0)\n",
        "#My_NeuralNetwork = My_NeuralNetwork.loc[My_NeuralNetwork['Номер'] !=aaa ]  # Оставить строки, где значение\n",
        "\n",
        "# Меняю тип данных чтобы избавиться от стринга и флоата \n",
        "My_NeuralNetwork = My_NeuralNetwork.astype({'Операция': np.int8})\n",
        "My_NeuralNetwork = My_NeuralNetwork.astype({'Будущее_Вектор': np.int8})\n",
        "My_NeuralNetwork = My_NeuralNetwork.astype({'Вектор_предыдущий': np.int8})\n",
        "\n",
        "df=My_NeuralNetwork\n",
        "df.to_excel(file_name+\".xlsx\", sheet_name='Sheet_name_1') # Сохраняю в файл\n",
        "\n",
        "#df.head(5)\n",
        "#My_NeuralNetwork\n",
        "#My_NeuralNetwork.sample() # 6 случайных записей"
      ]
    },
    {
      "cell_type": "code",
      "execution_count": null,
      "metadata": {
        "id": "GXcrrbIECDK5",
        "outputId": "af1f6908-5e55-489d-f70b-242b7636d5f1"
      },
      "outputs": [
        {
          "data": {
            "image/png": "[encoded data removed]",
            "text/plain": [
              "<Figure size 432x288 with 1 Axes>"
            ]
          },
          "metadata": {
            "needs_background": "light"
          },
          "output_type": "display_data"
        }
      ],
      "source": [
        "# создаём модель, обучаем и сохраняем её в файл\n",
        "# Решающие деревья\n",
        "from sklearn import tree # Решающие деревья\n",
        "import matplotlib.pyplot as plt\n",
        "import seaborn as sns\n",
        "%matplotlib inline\n",
        "\n",
        "data = df\n",
        "# Создаём датафрейм с данными\n",
        "#data = pd.DataFrame({'X_1': [1, 1, 1, 0, 0, 0, 0, 1], 'X_2': [0, 0, 0, 1, 0, 0, 0, 1], 'Y': [1, 1, 1, 1, 0, 0, 0, 0]})\n",
        "#data\n",
        "\n",
        "# Разновидности вариантов генерации решений\n",
        "#model = tree.DecisionTreeClassifier()\n",
        "model = tree.DecisionTreeClassifier(criterion='entropy')\n",
        "#model = LogisticRegression()\n",
        "\n",
        "X = data[['Количество', 'Операция','Вектор_предыдущий',]]\n",
        "y = data.Будущее_Вектор\n",
        "model.fit(X,y) # наше дерево - Обучилось(fit)\n",
        "\n",
        "# Сохраняем модель в файл\n",
        "import pickle\n",
        "filename = 'Saved_model/tree-'+file_name+'.model'  # file_name - оно объявлено в начале юпитера\n",
        "pickle.dump(model, open(filename, 'wb'))\n",
        "\n",
        "# Рисуем Блок-схему дерева решений, вариант 2\n",
        "from sklearn.tree import plot_tree\n",
        "plot_tree(model,filled=True); \n",
        "\n",
        "# !!!! Жди пока нарисуется схема"
      ]
    },
    {
      "cell_type": "code",
      "execution_count": null,
      "metadata": {
        "id": "eFlST4RiCDK7"
      },
      "outputs": [],
      "source": [
        "# Создаю прогноз и сохраняю в файл\n",
        "# Подаю на вход параметры и получаю предсказания (В виде DataFrame)\n",
        "df['Предсказания']=model.predict(df[['Количество', 'Операция','Вектор_предыдущий',]])\n",
        "#dd = data[['Количество', 'Операция','Вектор_предыдущий','Будущее_Вектор','Предсказания']]\n",
        "#dd = My_NeuralNetwork[['Время', 'Цена', 'Количество', 'Операция','Вектор_предыдущий','Будущее_Вектор','Предсказания']]\n",
        "\n",
        "df.to_excel(file_name+\"_predict.xlsx\", sheet_name=\"Sheet_name_1\") # Сохраняю DataFrame в xlsx файл \n",
        "# file_name - оно объявлено в начале юпитера"
      ]
    },
    {
      "cell_type": "code",
      "execution_count": null,
      "metadata": {
        "id": "-ZD4uuMrCDK8",
        "outputId": "9524e257-406a-47d7-c848-d06c5a70cb68"
      },
      "outputs": [
        {
          "name": "stdout",
          "output_type": "stream",
          "text": [
            "Сбылось sum: 29.0\n",
            "Не_сбылось sum: -29.0\n"
          ]
        }
      ],
      "source": [
        "# Предсказания\n",
        "# Подаю на вход параметры и получаю предсказания (В виде DataFrame)\n",
        "df['Предсказания']=model.predict(df[['Количество', 'Операция','Вектор_предыдущий',]])\n",
        "\n",
        "#data_frame = df.where(data_frame < 0, 0)\n",
        "df['+'] = df['Будущее_Вектор_в_пунктах']\n",
        "df.loc[df['Будущее_Вектор_в_пунктах'] < 0, '+'] = df['Будущее_Вектор_в_пунктах']*-1\n",
        "\n",
        "df.loc[df['Будущее_Вектор'] == df['Предсказания'], 'Сбылось'] = df['+']\n",
        "df.loc[df['Будущее_Вектор'] != df['Предсказания'], 'Сбылось'] = df['+']*-1\n",
        "\n",
        "\n",
        "df.loc[df['Будущее_Вектор'] != df['Предсказания'], 'Не_сбылось'] = df['+']\n",
        "df.loc[df['Будущее_Вектор'] == df['Предсказания'], 'Не_сбылось'] = df['+']*-1\n",
        "\n",
        "# Сохраняю DataFrame в xlsx файл \n",
        "df.to_excel(file_name+\"_predict.xlsx\", sheet_name=\"Sheet_name_1\") \n",
        "# file_name - оно объявлено в начале юпитера\n",
        "\n",
        "Total1 = df['Сбылось'].sum()\n",
        "print (\"Сбылось sum:\",Total1)\n",
        "\n",
        "Total2 = df['Не_сбылось'].sum()\n",
        "print (\"Не_сбылось sum:\",Total2)\n",
        "\n",
        "#"
      ]
    },
    {
      "cell_type": "code",
      "execution_count": null,
      "metadata": {
        "id": "Kt6oAZ-PCDK9",
        "outputId": "1f55ce35-df83-401e-8e77-a9fc0fde35fe"
      },
      "outputs": [
        {
          "data": {
            "text/html": [
              "<div>\n",
              "<style scoped>\n",
              "    .dataframe tbody tr th:only-of-type {\n",
              "        vertical-align: middle;\n",
              "    }\n",
              "\n",
              "    .dataframe tbody tr th {\n",
              "        vertical-align: top;\n",
              "    }\n",
              "\n",
              "    .dataframe thead th {\n",
              "        text-align: right;\n",
              "    }\n",
              "</style>\n",
              "<table border=\"1\" class=\"dataframe\">\n",
              "  <thead>\n",
              "    <tr style=\"text-align: right;\">\n",
              "      <th></th>\n",
              "      <th>Время</th>\n",
              "      <th>Цена</th>\n",
              "      <th>Количество</th>\n",
              "      <th>Операция</th>\n",
              "      <th>Будущее_Вектор_в_пунктах</th>\n",
              "      <th>Будущее_Вектор</th>\n",
              "      <th>Вектор_предыдущий</th>\n",
              "      <th>Предсказания</th>\n",
              "      <th>+</th>\n",
              "      <th>Сбылось</th>\n",
              "      <th>Не сбылось</th>\n",
              "    </tr>\n",
              "    <tr>\n",
              "      <th>Номер</th>\n",
              "      <th></th>\n",
              "      <th></th>\n",
              "      <th></th>\n",
              "      <th></th>\n",
              "      <th></th>\n",
              "      <th></th>\n",
              "      <th></th>\n",
              "      <th></th>\n",
              "      <th></th>\n",
              "      <th></th>\n",
              "      <th></th>\n",
              "    </tr>\n",
              "  </thead>\n",
              "  <tbody>\n",
              "    <tr>\n",
              "      <th>1892947264515607227</th>\n",
              "      <td>10:00:33</td>\n",
              "      <td>77659</td>\n",
              "      <td>110</td>\n",
              "      <td>1</td>\n",
              "      <td>123</td>\n",
              "      <td>1</td>\n",
              "      <td>0</td>\n",
              "      <td>1</td>\n",
              "      <td>123</td>\n",
              "      <td>123.0</td>\n",
              "      <td>-123.0</td>\n",
              "    </tr>\n",
              "    <tr>\n",
              "      <th>1892947264515607399</th>\n",
              "      <td>10:00:35</td>\n",
              "      <td>77782</td>\n",
              "      <td>116</td>\n",
              "      <td>0</td>\n",
              "      <td>51</td>\n",
              "      <td>1</td>\n",
              "      <td>1</td>\n",
              "      <td>1</td>\n",
              "      <td>51</td>\n",
              "      <td>51.0</td>\n",
              "      <td>-51.0</td>\n",
              "    </tr>\n",
              "    <tr>\n",
              "      <th>1892947264515607679</th>\n",
              "      <td>10:00:43</td>\n",
              "      <td>77731</td>\n",
              "      <td>109</td>\n",
              "      <td>0</td>\n",
              "      <td>28</td>\n",
              "      <td>1</td>\n",
              "      <td>1</td>\n",
              "      <td>0</td>\n",
              "      <td>28</td>\n",
              "      <td>-28.0</td>\n",
              "      <td>28.0</td>\n",
              "    </tr>\n",
              "    <tr>\n",
              "      <th>1892947264515608571</th>\n",
              "      <td>10:00:58</td>\n",
              "      <td>77703</td>\n",
              "      <td>120</td>\n",
              "      <td>0</td>\n",
              "      <td>-72</td>\n",
              "      <td>0</td>\n",
              "      <td>1</td>\n",
              "      <td>0</td>\n",
              "      <td>72</td>\n",
              "      <td>72.0</td>\n",
              "      <td>-72.0</td>\n",
              "    </tr>\n",
              "    <tr>\n",
              "      <th>1892947264515609133</th>\n",
              "      <td>10:01:12</td>\n",
              "      <td>77775</td>\n",
              "      <td>107</td>\n",
              "      <td>1</td>\n",
              "      <td>25</td>\n",
              "      <td>1</td>\n",
              "      <td>0</td>\n",
              "      <td>0</td>\n",
              "      <td>25</td>\n",
              "      <td>-25.0</td>\n",
              "      <td>25.0</td>\n",
              "    </tr>\n",
              "  </tbody>\n",
              "</table>\n",
              "</div>"
            ],
            "text/plain": [
              "                        Время   Цена  Количество  Операция  \\\n",
              "Номер                                                        \n",
              "1892947264515607227  10:00:33  77659         110         1   \n",
              "1892947264515607399  10:00:35  77782         116         0   \n",
              "1892947264515607679  10:00:43  77731         109         0   \n",
              "1892947264515608571  10:00:58  77703         120         0   \n",
              "1892947264515609133  10:01:12  77775         107         1   \n",
              "\n",
              "                     Будущее_Вектор_в_пунктах  Будущее_Вектор  \\\n",
              "Номер                                                           \n",
              "1892947264515607227                       123               1   \n",
              "1892947264515607399                        51               1   \n",
              "1892947264515607679                        28               1   \n",
              "1892947264515608571                       -72               0   \n",
              "1892947264515609133                        25               1   \n",
              "\n",
              "                     Вектор_предыдущий  Предсказания    +  Сбылось  Не сбылось  \n",
              "Номер                                                                           \n",
              "1892947264515607227                  0             1  123    123.0      -123.0  \n",
              "1892947264515607399                  1             1   51     51.0       -51.0  \n",
              "1892947264515607679                  1             0   28    -28.0        28.0  \n",
              "1892947264515608571                  1             0   72     72.0       -72.0  \n",
              "1892947264515609133                  0             0   25    -25.0        25.0  "
            ]
          },
          "execution_count": 73,
          "metadata": {},
          "output_type": "execute_result"
        }
      ],
      "source": [
        "df.head()"
      ]
    },
    {
      "cell_type": "code",
      "execution_count": null,
      "metadata": {
        "id": "NLfnyZOVCDK-",
        "outputId": "a17e1549-ab60-424a-c5bf-db99a59bf016"
      },
      "outputs": [
        {
          "ename": "FileNotFoundError",
          "evalue": "[Errno 2] No such file or directory: 'Saved_model/tree-2022-04-19.model'",
          "output_type": "error",
          "traceback": [
            "\u001b[1;31m---------------------------------------------------------------------------\u001b[0m",
            "\u001b[1;31mFileNotFoundError\u001b[0m                         Traceback (most recent call last)",
            "\u001b[1;32m~\\AppData\\Local\\Temp/ipykernel_9276/1876938740.py\u001b[0m in \u001b[0;36m<module>\u001b[1;34m\u001b[0m\n\u001b[0;32m      3\u001b[0m \u001b[1;31m#file_name = \"2022-04-21\"\u001b[0m\u001b[1;33m\u001b[0m\u001b[1;33m\u001b[0m\u001b[0m\n\u001b[0;32m      4\u001b[0m \u001b[0mfilename\u001b[0m \u001b[1;33m=\u001b[0m \u001b[1;34m'Saved_model/tree-'\u001b[0m\u001b[1;33m+\u001b[0m\u001b[0mfile_name\u001b[0m\u001b[1;33m+\u001b[0m\u001b[1;34m'.model'\u001b[0m  \u001b[1;31m# file_name - оно объявлено в начале юпитера\u001b[0m\u001b[1;33m\u001b[0m\u001b[1;33m\u001b[0m\u001b[0m\n\u001b[1;32m----> 5\u001b[1;33m \u001b[0mmodel\u001b[0m \u001b[1;33m=\u001b[0m \u001b[0mpickle\u001b[0m\u001b[1;33m.\u001b[0m\u001b[0mload\u001b[0m\u001b[1;33m(\u001b[0m\u001b[0mopen\u001b[0m\u001b[1;33m(\u001b[0m\u001b[0mfilename\u001b[0m\u001b[1;33m,\u001b[0m \u001b[1;34m'rb'\u001b[0m\u001b[1;33m)\u001b[0m\u001b[1;33m)\u001b[0m\u001b[1;33m\u001b[0m\u001b[1;33m\u001b[0m\u001b[0m\n\u001b[0m\u001b[0;32m      6\u001b[0m \u001b[1;31m#result = model.score(X_test, Y_test)\u001b[0m\u001b[1;33m\u001b[0m\u001b[1;33m\u001b[0m\u001b[0m\n\u001b[0;32m      7\u001b[0m \u001b[1;31m#print(result)\u001b[0m\u001b[1;33m\u001b[0m\u001b[1;33m\u001b[0m\u001b[0m\n",
            "\u001b[1;31mFileNotFoundError\u001b[0m: [Errno 2] No such file or directory: 'Saved_model/tree-2022-04-19.model'"
          ]
        }
      ],
      "source": [
        "# Загружаем модель из файла\n",
        "import pickle\n",
        "#file_name = \"2022-04-21\"\n",
        "filename = 'Saved_model/tree-'+file_name+'.model'  # file_name - оно объявлено в начале юпитера\n",
        "model = pickle.load(open(filename, 'rb'))\n",
        "#result = model.score(X_test, Y_test)\n",
        "#print(result)\n",
        "\n",
        "# Рисуем Блок-схему дерева решений, вариант 2\n",
        "from sklearn.tree import plot_tree\n",
        "plot_tree(model,filled=True); \n",
        "\n",
        "# !!!! Жди пока нарисуется схема"
      ]
    },
    {
      "cell_type": "code",
      "execution_count": null,
      "metadata": {
        "id": "3l3rZ2zKCDK_",
        "outputId": "9f509a67-dd3a-4c96-d7ad-f6fde1c81e43"
      },
      "outputs": [
        {
          "name": "stdout",
          "output_type": "stream",
          "text": [
            "[1]\n"
          ]
        }
      ],
      "source": [
        "# Подаю на вход параметры и получаю предсказания\n",
        "print(model.predict([[189, 1,0]]))"
      ]
    },
    {
      "cell_type": "code",
      "execution_count": null,
      "metadata": {
        "id": "Qz_GRKE2ZkDk"
      },
      "outputs": [],
      "source": [
        ""
      ]
    }
  ],
  "metadata": {
    "colab": {
      "collapsed_sections": [],
      "name": "My_source 3 21.04.2022-Copy2.ipynb",
      "provenance": [],
      "include_colab_link": true
    },
    "kernelspec": {
      "display_name": "Python 3 (ipykernel)",
      "language": "python",
      "name": "python3"
    },
    "language_info": {
      "codemirror_mode": {
        "name": "ipython",
        "version": 3
      },
      "file_extension": ".py",
      "mimetype": "text/x-python",
      "name": "python",
      "nbconvert_exporter": "python",
      "pygments_lexer": "ipython3",
      "version": "3.9.7"
    }
  },
  "nbformat": 4,
  "nbformat_minor": 0
}